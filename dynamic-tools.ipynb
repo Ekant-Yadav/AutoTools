{
 "cells": [
  {
   "cell_type": "code",
   "execution_count": 2,
   "metadata": {},
   "outputs": [],
   "source": [
    "%%capture --no-stderr\n",
    "%pip install --quiet -U langchain_openai langchain_core langgraph\n",
    "\n",
    "import os, getpass\n",
    "\n",
    "def _set_env(var: str):\n",
    "    if not os.environ.get(var):\n",
    "        os.environ[var] = getpass.getpass(f\"{var}: \")\n",
    "\n",
    "_set_env(\"OPENAI_API_KEY\")\n",
    "\n",
    "_set_env(\"LANGCHAIN_API_KEY\")\n",
    "os.environ[\"LANGCHAIN_TRACING_V2\"] = \"true\"\n",
    "os.environ[\"LANGCHAIN_PROJECT\"] = \"langchain-academy\""
   ]
  },
  {
   "cell_type": "code",
   "execution_count": 3,
   "metadata": {},
   "outputs": [],
   "source": [
    "from langchain.tools import Tool\n",
    "from typing import Callable\n",
    "\n",
    "class DynamicToolRegistry:\n",
    "    def __init__(self):\n",
    "        self.tools = {}\n",
    "\n",
    "    def add_tool(self, name: str, func: Callable, description: str = \"No description provided\"):\n",
    "        \"\"\"Add a tool dynamically.\"\"\"\n",
    "        self.tools[name] = func\n",
    "\n",
    "    def remove_tool(self, name: str):\n",
    "        \"\"\"Remove a tool dynamically.\"\"\"\n",
    "        if name in self.tools:\n",
    "            del self.tools[name]\n",
    "\n",
    "    def get_tools(self):\n",
    "        \"\"\"Return all currently available tools.\"\"\"\n",
    "        return list(self.tools.values())\n",
    "\n",
    "# Initialize registry\n",
    "tool_registry = DynamicToolRegistry()\n",
    "\n",
    "def multiply(a: int, b: int) -> int:\n",
    "    \"\"\"Multiply a and b.\n",
    "\n",
    "    Args:\n",
    "        a: first int\n",
    "        b: second int\n",
    "    \"\"\"\n",
    "    return a * b\n",
    "\n",
    "# This will be a tool\n",
    "def add(a: int, b: int) -> int:\n",
    "    \"\"\"Adds a and b.\n",
    "\n",
    "    Args:\n",
    "        a: first int\n",
    "        b: second int\n",
    "    \"\"\"\n",
    "    return a + b\n",
    "\n",
    "def division(a: int, b: int) -> int:\n",
    "    \"\"\"Sin of x.\n",
    "    \n",
    "    Args:\n",
    "        x: first int\n",
    "    \"\"\"\n",
    "    return a / b\n",
    "\n",
    "# Add tools dynamically\n",
    "tool_registry.add_tool(\"multiply\", multiply)\n",
    "# tool_registry.add_tool(\"division\", division)\n",
    "tool_registry.add_tool(\"add\", add)"
   ]
  },
  {
   "cell_type": "code",
   "execution_count": 4,
   "metadata": {},
   "outputs": [],
   "source": [
    "tool_registry.remove_tool(\"division\")"
   ]
  },
  {
   "cell_type": "code",
   "execution_count": 5,
   "metadata": {},
   "outputs": [],
   "source": [
    "from langgraph.graph import MessagesState\n",
    "\n",
    "class AgentState(MessagesState):\n",
    "    pass"
   ]
  },
  {
   "cell_type": "code",
   "execution_count": 39,
   "metadata": {},
   "outputs": [],
   "source": [
    "import json \n",
    "from langchain_core.messages import ToolMessage\n",
    "\n",
    "def tool_execution_node(state: AgentState) -> AgentState:\n",
    "    \"\"\"Executes the requested tool dynamically.\"\"\"\n",
    "    # Get the last AI message\n",
    "    last_message = state[\"messages\"][-1]\n",
    "    print(\"executing tool last_message\", last_message)\n",
    "\n",
    "    # Extract tool calls\n",
    "    tool_calls = last_message.additional_kwargs.get(\"tool_calls\", [])\n",
    "    available_tools = tool_registry.get_tools()\n",
    "\n",
    "    print(\"tool_calls\", tool_calls)\n",
    "\n",
    "    tool_call = tool_calls[0].get(\"function\")  # Assuming single tool call per message\n",
    "    tool_name = tool_call[\"name\"]\n",
    "    tool_args = json.loads(tool_call[\"arguments\"])\n",
    "\n",
    "    # Fetch available tools\n",
    "    available_tools = tool_registry.tools\n",
    "    print(\"available tool\", available_tools)  # Ensure this function exists\n",
    "\n",
    "    if tool_name in available_tools:\n",
    "        tool = available_tools[tool_name]\n",
    "        print(\"tool_args\", tool_args)\n",
    "\n",
    "        # Ensure arguments are passed as keyword arguments\n",
    "        result = tool(**tool_args)\n",
    "        return {\"messages\" : ToolMessage(content=result, tool_call_id=tool_calls[0].get(\"id\"))}\n",
    "    else:\n",
    "        return {\"messages\" : f\"Tool '{tool_name}' not found.\"}\n",
    "\n"
   ]
  },
  {
   "cell_type": "code",
   "execution_count": 40,
   "metadata": {},
   "outputs": [],
   "source": [
    "from langchain_openai import ChatOpenAI\n",
    "from langgraph.graph import MessagesState\n",
    "from langchain_core.messages import HumanMessage, SystemMessage\n",
    "\n",
    "llm = ChatOpenAI(model=\"gpt-3.5-turbo-0125\")\n",
    "\n",
    "prompt = \"\"\"You are a helpful assistant tasked with performing arithmetic on a set of inputs.  \n",
    "**Instructions:**  \n",
    "- Do not perform arithmetic actions directly without a tool.\n",
    "- Determine if you have a tool to perform required arithmetic action. If no tool present respond with: 'Need to create [description of tool].' This will create a new tool to use\n",
    "- Use existing tools or create new ones to complete the task.\"\"\"\n",
    "\n",
    "sys_msg = SystemMessage(content= prompt) \n",
    "def assistant(state: AgentState):\n",
    "    # print(\"assistan\",state[\"tool_all\"])\n",
    "    print(\"toolzaa 1: \",tool_registry.get_tools() )\n",
    "    llm_with_tools = llm.bind_tools(tool_registry.get_tools(), parallel_tool_calls=False)\n",
    "    output={\"messages\": [llm_with_tools.invoke(([sys_msg]) + state[\"messages\"])]}\n",
    "    return output"
   ]
  },
  {
   "cell_type": "code",
   "execution_count": 42,
   "metadata": {},
   "outputs": [],
   "source": [
    "import tkinter as tk\n",
    "import ast\n",
    "import re\n",
    "from tkinter import simpledialog\n",
    "\n",
    "def extract_code(ai_message):\n",
    "    \"\"\"Extracts Python code from a string with markdown formatting.\"\"\"\n",
    "    code_blocks = re.findall(r\"```python\\n(.*?)```\", ai_message, re.DOTALL)\n",
    "    return code_blocks[0] if code_blocks else None\n",
    "\n",
    "def get_function_name_from_string(func_code: str):\n",
    "    \"\"\"Extracts the function name from a string containing Python code.\"\"\"\n",
    "    match = re.search(r\"def\\s+(\\w+)\\s*\\(\", func_code)\n",
    "    return match.group(1) if match else None  # Return function name if found\n",
    "\n",
    "def large_text_input(title=\"new\", prompt=\"new\", initial_text=\"\"):\n",
    "    \"\"\"Create a larger input window with a multi-line Text widget.\"\"\"\n",
    "    def on_submit():\n",
    "        nonlocal user_input\n",
    "        user_input = text_widget.get(\"1.0\", tk.END).strip()  # Get text\n",
    "        root.destroy()  # Close window\n",
    "\n",
    "    root = tk.Tk()\n",
    "    root.title(title)\n",
    "    root.geometry(\"600x400\")  # Set window size\n",
    "    root.resizable(True, True)  # Allow resizing\n",
    "\n",
    "    tk.Label(root, text=prompt, font=(\"Arial\", 12)).pack(pady=10)\n",
    "\n",
    "    text_widget = tk.Text(root, wrap=\"word\", font=(\"Arial\", 12), height=10, width=60)\n",
    "    text_widget.pack(padx=10, pady=10)\n",
    "    text_widget.insert(\"1.0\", initial_text)  # Pre-fill text area\n",
    "\n",
    "    submit_button = tk.Button(root, text=\"Submit\", command=on_submit)\n",
    "    submit_button.pack(pady=10)\n",
    "\n",
    "    user_input = None\n",
    "    root.mainloop()\n",
    "    return user_input"
   ]
  },
  {
   "cell_type": "code",
   "execution_count": 83,
   "metadata": {},
   "outputs": [],
   "source": [
    "\n",
    "contrent1 = \"You are an experienced Python programmer. Your task is to write a genric python function for given problem statement.\"\n",
    "prompt1 =  f\"\"\"\n",
    "    The function should:\n",
    "    - Have type hints.\n",
    "    - Include a proper docstring.\n",
    "    - Doc example: Adds a and b.\n",
    "\n",
    "                        Args:\n",
    "                            a: first int\n",
    "                            b: second int\n",
    "    -Return the function code without explanations.\n",
    "    \"\"\"\n",
    "sys_msg2 = SystemMessage(content= contrent1, prompt = prompt1)\n",
    "def tool_creater(state: AgentState):\n",
    "    try:\n",
    "        \n",
    "        output={\"message\": [llm.invoke(([sys_msg2]) + [state['messages'][-1]])]}\n",
    "        real_output = large_text_input(initial_text=extract_code(output[\"message\"][0].content))\n",
    "        exec(real_output, globals())\n",
    "        func_name = get_function_name_from_string(real_output)\n",
    "        print(func_name)\n",
    "        tool_registry.add_tool(func_name, globals().get(func_name))\n",
    "        return\n",
    "    except Exception as e:\n",
    "        print(e)\n",
    "        return "
   ]
  },
  {
   "cell_type": "code",
   "execution_count": 84,
   "metadata": {},
   "outputs": [],
   "source": [
    "def tool_selector(state: AgentState) -> str:\n",
    "    \"\"\"Conditional edge function to select the correct path.\"\"\"\n",
    "    \n",
    "    last_message = state[\"messages\"][-1]\n",
    "    # print(last_message)\n",
    "    if \"need to create\" in last_message.content.lower():\n",
    "        return \"tool_creater\"\n",
    "    # If it's a tool call, route to tools\n",
    "    elif hasattr(last_message, \"tool_calls\") and last_message.tool_calls:\n",
    "        return \"tools\"\n",
    "    else:\n",
    "        return \"__end__\""
   ]
  },
  {
   "cell_type": "code",
   "execution_count": 85,
   "metadata": {},
   "outputs": [
    {
     "data": {
      "image/png": "[encoded data removed]",
      "text/plain": [
       "<IPython.core.display.Image object>"
      ]
     },
     "metadata": {},
     "output_type": "display_data"
    }
   ],
   "source": [
    "from langgraph.graph import START, StateGraph\n",
    "# from langgraph.prebuilt import ToolNode\n",
    "from IPython.display import Image, display\n",
    "\n",
    "builder = StateGraph(AgentState)\n",
    "\n",
    "builder.add_node(\"assistant\", assistant)\n",
    "builder.add_node(\"tools\", tool_execution_node)\n",
    "builder.add_node(\"tool_creater\", tool_creater)\n",
    "\n",
    "builder.add_edge(START, \"assistant\")\n",
    "builder.add_edge(\"tools\", \"assistant\")\n",
    "builder.add_edge(\"tool_creater\", \"assistant\")\n",
    "\n",
    "builder.add_conditional_edges(\n",
    "    \"assistant\",\n",
    "    tool_selector\n",
    ")\n",
    "# builder.add_edge(\"tools\", \"assistant\")\n",
    "# builder.add_edge(\"tool_creater\", \"assistant\")\n",
    "react_graph = builder.compile()\n",
    "\n",
    "display(Image(react_graph.get_graph(xray=True).draw_mermaid_png()))"
   ]
  },
  {
   "cell_type": "code",
   "execution_count": 94,
   "metadata": {},
   "outputs": [
    {
     "name": "stdout",
     "output_type": "stream",
     "text": [
      "toolzaa 1:  [<function multiply at 0x7fa67c66bd80>, <function add at 0x7fa665b434c0>, <function division at 0x7fa61125d300>]\n",
      "executing tool last_message content='' additional_kwargs={'tool_calls': [{'id': 'call_1iQ7gcoPByX74Z06DZNyEIAI', 'function': {'arguments': '{\"a\":13,\"b\":7}', 'name': 'add'}, 'type': 'function'}], 'refusal': None} response_metadata={'token_usage': {'completion_tokens': 18, 'prompt_tokens': 226, 'total_tokens': 244, 'completion_tokens_details': {'accepted_prediction_tokens': 0, 'audio_tokens': 0, 'reasoning_tokens': 0, 'rejected_prediction_tokens': 0}, 'prompt_tokens_details': {'audio_tokens': 0, 'cached_tokens': 0}}, 'model_name': 'gpt-3.5-turbo-0125', 'system_fingerprint': None, 'finish_reason': 'tool_calls', 'logprobs': None} id='run-6cda580b-221b-4b6a-af46-1f96b0ac81ee-0' tool_calls=[{'name': 'add', 'args': {'a': 13, 'b': 7}, 'id': 'call_1iQ7gcoPByX74Z06DZNyEIAI', 'type': 'tool_call'}] usage_metadata={'input_tokens': 226, 'output_tokens': 18, 'total_tokens': 244, 'input_token_details': {'audio': 0, 'cache_read': 0}, 'output_token_details': {'audio': 0, 'reasoning': 0}}\n",
      "tool_calls [{'id': 'call_1iQ7gcoPByX74Z06DZNyEIAI', 'function': {'arguments': '{\"a\":13,\"b\":7}', 'name': 'add'}, 'type': 'function'}]\n",
      "available tool {'multiply': <function multiply at 0x7fa67c66bd80>, 'add': <function add at 0x7fa665b434c0>, 'division': <function division at 0x7fa61125d300>}\n",
      "tool_args {'a': 13, 'b': 7}\n",
      "toolzaa 1:  [<function multiply at 0x7fa67c66bd80>, <function add at 0x7fa665b434c0>, <function division at 0x7fa61125d300>]\n",
      "The sine of 1.5707963267948966 radians is: 1.0\n",
      "calculate_sine\n",
      "toolzaa 1:  [<function multiply at 0x7fa67c66bd80>, <function add at 0x7fa665b434c0>, <function division at 0x7fa61125d300>, <function calculate_sine at 0x7fa610227d80>]\n",
      "executing tool last_message content='' additional_kwargs={'tool_calls': [{'id': 'call_T5b4z8HK6RrQz9CcYaGveckJ', 'function': {'arguments': '{\"angle_in_radians\":20}', 'name': 'calculate_sine'}, 'type': 'function'}], 'refusal': None} response_metadata={'token_usage': {'completion_tokens': 19, 'prompt_tokens': 281, 'total_tokens': 300, 'completion_tokens_details': {'accepted_prediction_tokens': 0, 'audio_tokens': 0, 'reasoning_tokens': 0, 'rejected_prediction_tokens': 0}, 'prompt_tokens_details': {'audio_tokens': 0, 'cached_tokens': 0}}, 'model_name': 'gpt-3.5-turbo-0125', 'system_fingerprint': None, 'finish_reason': 'tool_calls', 'logprobs': None} id='run-9803ec38-4089-4dc9-b68c-51ce2c79aa26-0' tool_calls=[{'name': 'calculate_sine', 'args': {'angle_in_radians': 20}, 'id': 'call_T5b4z8HK6RrQz9CcYaGveckJ', 'type': 'tool_call'}] usage_metadata={'input_tokens': 281, 'output_tokens': 19, 'total_tokens': 300, 'input_token_details': {'audio': 0, 'cache_read': 0}, 'output_token_details': {'audio': 0, 'reasoning': 0}}\n",
      "tool_calls [{'id': 'call_T5b4z8HK6RrQz9CcYaGveckJ', 'function': {'arguments': '{\"angle_in_radians\":20}', 'name': 'calculate_sine'}, 'type': 'function'}]\n",
      "available tool {'multiply': <function multiply at 0x7fa67c66bd80>, 'add': <function add at 0x7fa665b434c0>, 'division': <function division at 0x7fa61125d300>, 'calculate_sine': <function calculate_sine at 0x7fa610227d80>}\n",
      "tool_args {'angle_in_radians': 20}\n",
      "toolzaa 1:  [<function multiply at 0x7fa67c66bd80>, <function add at 0x7fa665b434c0>, <function division at 0x7fa61125d300>, <function calculate_sine at 0x7fa610227d80>]\n"
     ]
    }
   ],
   "source": [
    "messages = [HumanMessage(content=\"Add 13 to 7. Give sin of that. You dont have a tool for sin\")]\n",
    "messages = react_graph.invoke({\"messages\": messages})\n",
    "\n"
   ]
  },
  {
   "cell_type": "code",
   "execution_count": 93,
   "metadata": {},
   "outputs": [
    {
     "name": "stdout",
     "output_type": "stream",
     "text": [
      "{'multiply': <function multiply at 0x7fa67c66bd80>, 'add': <function add at 0x7fa665b434c0>, 'division': <function division at 0x7fa61125d300>, 'my_sine': <function my_sine at 0x7fa610225ee0>}\n"
     ]
    }
   ],
   "source": [
    "print(tool_registry.tools)\n",
    "tool_registry.remove_tool(\"my_sine\")\n",
    "\n",
    "import math\n",
    "\n",
    "def calculate_sine(angle_in_radians):\n",
    "    return math.sin(angle_in_radians)"
   ]
  },
  {
   "cell_type": "code",
   "execution_count": 95,
   "metadata": {},
   "outputs": [
    {
     "name": "stdout",
     "output_type": "stream",
     "text": [
      "================================\u001b[1m Human Message \u001b[0m=================================\n",
      "\n",
      "Add 13 to 7. Give sin of that. You dont have a tool for sin\n",
      "==================================\u001b[1m Ai Message \u001b[0m==================================\n",
      "Tool Calls:\n",
      "  add (call_1iQ7gcoPByX74Z06DZNyEIAI)\n",
      " Call ID: call_1iQ7gcoPByX74Z06DZNyEIAI\n",
      "  Args:\n",
      "    a: 13\n",
      "    b: 7\n",
      "=================================\u001b[1m Tool Message \u001b[0m=================================\n",
      "\n",
      "20\n",
      "==================================\u001b[1m Ai Message \u001b[0m==================================\n",
      "\n",
      "Need to create a tool for sin.\n",
      "==================================\u001b[1m Ai Message \u001b[0m==================================\n",
      "Tool Calls:\n",
      "  calculate_sine (call_T5b4z8HK6RrQz9CcYaGveckJ)\n",
      " Call ID: call_T5b4z8HK6RrQz9CcYaGveckJ\n",
      "  Args:\n",
      "    angle_in_radians: 20\n",
      "=================================\u001b[1m Tool Message \u001b[0m=================================\n",
      "\n",
      "0.9129452507276277\n",
      "==================================\u001b[1m Ai Message \u001b[0m==================================\n",
      "\n",
      "The sine of the sum of 13 and 7 is approximately 0.913.\n"
     ]
    }
   ],
   "source": [
    "for m in messages['messages']:\n",
    "    m.pretty_print()"
   ]
  }
 ],
 "metadata": {
  "kernelspec": {
   "display_name": "lc-academy-env",
   "language": "python",
   "name": "python3"
  },
  "language_info": {
   "codemirror_mode": {
    "name": "ipython",
    "version": 3
   },
   "file_extension": ".py",
   "mimetype": "text/x-python",
   "name": "python",
   "nbconvert_exporter": "python",
   "pygments_lexer": "ipython3",
   "version": "3.12.3"
  }
 },
 "nbformat": 4,
 "nbformat_minor": 2
}
